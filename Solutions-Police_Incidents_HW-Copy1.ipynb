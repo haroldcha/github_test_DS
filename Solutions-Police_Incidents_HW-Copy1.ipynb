{
 "cells": [
  {
   "cell_type": "markdown",
   "metadata": {},
   "source": [
    "# [SOC-88] Visualizing Police Force Data\n",
    "\n",
    "### Professor David Harding\n",
    "\n",
    "## Table of Contents\n",
    "\n",
    "[Introduction](#intro)\n",
    "\n",
    "[Data Visualization](#1)\n",
    "\n",
    "- [Categorical Data](#1.1)\n",
    "    - [Question 1](#q1)\n",
    "\n",
    "- [Numerical Data](#1.2)\n",
    "    - [Question 2](#q2)\n",
    "\n",
    "[More Advanced Plots: Time of Incident](#2)"
   ]
  },
  {
   "cell_type": "markdown",
   "metadata": {},
   "source": [
    "## Introduction <a id='intro'></a>\n",
    "\n",
    "In this homework, you will practice different data visualization techniques you learned about in lecture. The police incidents data has been taken from [Open Data Minneapolis](http://opendata.minneapolismn.gov/). \n",
    "\n",
    "<img src=\"Data/7a9713-20180517-minneapolis-police-use-of-force-reduced.png\" style=\"width:600px\">\n",
    "\n",
    "<div style=\"text-align: right\">- Brandt Williams, <a href='https://www.mprnews.org/story/2018/05/18/use-of-force-by-minneapolis-police-down'>MPR News</a></div>\n",
    "\n",
    "There are two main data tables used in this assignment: **Police_Incidents_2019.csv** and **Police_Use_of_Force.csv**. \n",
    "\n",
    "The first file, **Police_Incidents_2019.csv**, has records of all police incidents that took place in 2019. Its columns contain information such as the latitude-longitude information of incidents, police precinct and neighborhood in which the incident occurred, time and date of the report, type of crime, etc. \n",
    "\n",
    "The second file, **Police_Use_of_Force.csv**, has information on recorded force use (by the police) cases. It shares similar columns as the first file, such as the latitude-longitude information of incidents, what precinct and neighborhood the incident took place in, and date of the report. However, it also contains information specifically relevant to the use of force, like whether or not the subject was injured as a result of the force use, cause of intervention, what kind of force was used by an officer, subject's age, gender and race, etc.\n",
    "\n",
    "---\n"
   ]
  },
  {
   "cell_type": "markdown",
   "metadata": {},
   "source": [
    "First we will begin by running a code cell that will load the libraries you'll be using."
   ]
  },
  {
   "cell_type": "code",
   "execution_count": 1,
   "metadata": {},
   "outputs": [],
   "source": [
    "from datascience import *\n",
    "import numpy as np\n",
    "\n",
    "import matplotlib.pyplot as plt\n",
    "%matplotlib inline\n",
    "import datetime"
   ]
  },
  {
   "cell_type": "markdown",
   "metadata": {},
   "source": [
    "## Data Visualization <a id='1'></a>\n",
    "\n",
    "**Data visualization** is the graphical representation of information and data. By using visual elements like charts, graphs, & maps, data visualization tools provide an accessible way to see and understand patterns in data. The general goal of data visualization is to communicate key information clearly and efficiently to its audience. \n",
    "\n",
    "**Edward Tufte**, in his book *The Visual Display of Quantitative Information*, stated that effective data visualization should:\n",
    "\n",
    "- avoid distorting what the data has to say\n",
    "- present many numbers in a small space\n",
    "- encourage the eye to compare different pieces of data\n",
    "- serve a reasonably clear purpose: description, exploration, tabulation or decoration\n",
    "- ...and more\n",
    "\n",
    "More about Tufte's theory can be found [here](https://moz.com/blog/data-visualization-principles-lessons-from-tufte).\n",
    "\n",
    "Let's first explore the two datasets read in as datascience tables `incidents` and `force`, respectively. We can see that there are quite a number of columns for both tables. Can you find the columns corresponding to what's been mentioned in the description of the csv files above? What are some notable differences between the two tables?"
   ]
  },
  {
   "cell_type": "code",
   "execution_count": 2,
   "metadata": {},
   "outputs": [
    {
     "data": {
      "text/html": [
       "<table border=\"1\" class=\"dataframe\">\n",
       "    <thead>\n",
       "        <tr>\n",
       "            <th>X</th> <th>Y</th> <th>publicaddress</th> <th>caseNumber</th> <th>precinct</th> <th>reportedDate</th> <th>reportedTime</th> <th>beginDate</th> <th>reportedDateTime</th> <th>beginTime</th> <th>offense</th> <th>description</th> <th>UCRCode</th> <th>enteredDate</th> <th>centergbsid</th> <th>centerLong</th> <th>centerLat</th> <th>centerX</th> <th>centerY</th> <th>neighborhood</th> <th>lastchanged</th> <th>LastUpdateDateETL</th> <th>OBJECTID</th>\n",
       "        </tr>\n",
       "    </thead>\n",
       "    <tbody>\n",
       "        <tr>\n",
       "            <td>-93.3118</td> <td>45.006 </td> <td>0024XX BROADWAY AVE W  </td> <td>MP201971497         </td> <td>4       </td> <td>2019-03-13T00:00:00.000Z</td> <td>1046        </td> <td>2019-03-13T00:00:00.000Z</td> <td>2019-03-13T10:46:00.000Z</td> <td>1046     </td> <td>THEFT   </td> <td>OTHER THEFT                   </td> <td>7      </td> <td>2019-03-13T00:00:00.000Z</td> <td>10909      </td> <td>-93.3118  </td> <td>45.006   </td> <td>-10387423</td> <td>5622470</td> <td>Willard - Hay</td> <td>2019-03-13T00:00:00.000Z</td> <td>2019-03-15T08:15:26.000Z</td> <td>9001    </td>\n",
       "        </tr>\n",
       "        <tr>\n",
       "            <td>-93.3121</td> <td>44.9979</td> <td>0018XX SHERIDAN AVE N  </td> <td>MP201971522         </td> <td>4       </td> <td>2019-03-13T00:00:00.000Z</td> <td>1048        </td> <td>2019-03-12T00:00:00.000Z</td> <td>2019-03-13T10:48:00.000Z</td> <td>2000     </td> <td>THEFT   </td> <td>OTHER THEFT                   </td> <td>7      </td> <td>2019-03-13T00:00:00.000Z</td> <td>14596      </td> <td>-93.3121  </td> <td>44.9979  </td> <td>-10387450</td> <td>5621188</td> <td>Willard - Hay</td> <td>2019-03-13T00:00:00.000Z</td> <td>2019-03-15T08:15:26.000Z</td> <td>9002    </td>\n",
       "        </tr>\n",
       "        <tr>\n",
       "            <td>-93.2346</td> <td>45.0087</td> <td>0019XX HAYES ST NE     </td> <td>MP201971533         </td> <td>2       </td> <td>2019-03-13T00:00:00.000Z</td> <td>1141        </td> <td>2019-03-13T00:00:00.000Z</td> <td>2019-03-13T11:41:00.000Z</td> <td>215      </td> <td>CSCR    </td> <td>CSC - RAPE                    </td> <td>3      </td> <td>2019-03-13T00:00:00.000Z</td> <td>17221      </td> <td>-93.2346  </td> <td>45.0087  </td> <td>-10378828</td> <td>5622888</td> <td>Windom Park  </td> <td>2019-03-20T00:00:00.000Z</td> <td>2019-03-21T08:15:32.000Z</td> <td>9003    </td>\n",
       "        </tr>\n",
       "        <tr>\n",
       "            <td>-93.2818</td> <td>45.0048</td> <td>0024XX WASHINGTON AVE N</td> <td>MP201971617         </td> <td>4       </td> <td>2019-03-13T00:00:00.000Z</td> <td>1317        </td> <td>2019-03-12T00:00:00.000Z</td> <td>2019-03-13T13:17:00.000Z</td> <td>1749     </td> <td>THEFT   </td> <td>OTHER THEFT                   </td> <td>7      </td> <td>2019-03-13T00:00:00.000Z</td> <td>13725      </td> <td>-93.2818  </td> <td>45.0048  </td> <td>-10384081</td> <td>5622275</td> <td>Hawthorne    </td> <td>2019-03-13T00:00:00.000Z</td> <td>2019-03-15T08:15:26.000Z</td> <td>9004    </td>\n",
       "        </tr>\n",
       "        <tr>\n",
       "            <td>-93.2283</td> <td>44.9296</td> <td>0040XX NOKOMIS AVE S   </td> <td>MP201971661         </td> <td>3       </td> <td>2019-03-13T00:00:00.000Z</td> <td>1326        </td> <td>2019-02-27T00:00:00.000Z</td> <td>2019-03-13T13:26:00.000Z</td> <td>900      </td> <td>ONLTHT  </td> <td>ON-LINE THEFT                 </td> <td>7      </td> <td>2019-03-13T00:00:00.000Z</td> <td>19761      </td> <td>-93.2283  </td> <td>44.9296  </td> <td>-10378128</td> <td>5610445</td> <td>Standish     </td> <td>2019-03-13T00:00:00.000Z</td> <td>2019-03-15T08:15:26.000Z</td> <td>9005    </td>\n",
       "        </tr>\n",
       "    </tbody>\n",
       "</table>\n",
       "<p>... (9645 rows omitted)</p>"
      ],
      "text/plain": [
       "<IPython.core.display.HTML object>"
      ]
     },
     "metadata": {},
     "output_type": "display_data"
    }
   ],
   "source": [
    "# Police Incident Data, 2019\n",
    "incidents = Table().read_table('Data/Police_Incidents_2019.csv')\n",
    "incidents.show(5)"
   ]
  },
  {
   "cell_type": "code",
   "execution_count": 3,
   "metadata": {},
   "outputs": [
    {
     "data": {
      "text/html": [
       "<table border=\"1\" class=\"dataframe\">\n",
       "    <thead>\n",
       "        <tr>\n",
       "            <th>X</th> <th>Y</th> <th>PoliceUseOfForceID</th> <th>CaseNumber</th> <th>ResponseDate</th> <th>Problem</th> <th>Is911Call</th> <th>PrimaryOffense</th> <th>SubjectInjury</th> <th>ForceReportNumber</th> <th>SubjectRole</th> <th>SubjectRoleNumber</th> <th>ForceType</th> <th>ForceTypeAction</th> <th>Race</th> <th>Sex</th> <th>EventAge</th> <th>TypeOfResistance</th> <th>Precinct</th> <th>Neighborhood</th> <th>TotalCityCallsForYear</th> <th>TotalPrecinctCallsForYear</th> <th>TotalNeighborhoodCallsForYear</th> <th>CenterGBSID</th> <th>CenterLatitude</th> <th>CenterLongitude</th> <th>CenterX</th> <th>CenterY</th> <th>DateAdded</th> <th>OBJECTID</th>\n",
       "        </tr>\n",
       "    </thead>\n",
       "    <tbody>\n",
       "        <tr>\n",
       "            <td>-93.2406</td> <td>44.9457</td> <td>1535693           </td> <td>08-134948 </td> <td>2008-05-11T12:27:59.000Z</td> <td>Fight                </td> <td>Yes      </td> <td>DISCON        </td> <td>Yes          </td> <td>1                </td> <td>A          </td> <td>2                </td> <td>Bodily Force     </td> <td>Kicks          </td> <td>Other / Mixed Race</td> <td>Male</td> <td>23      </td> <td>Verbal Non-Compliance</td> <td>03      </td> <td>Corcoran     </td> <td>322402               </td> <td>84018                    </td> <td>3058                         </td> <td>19708      </td> <td>44.9457       </td> <td>-93.2406       </td> <td>-1.03795e+07</td> <td>5.61297e+06</td> <td>2019-07-05T08:18:58.000Z</td> <td>1001    </td>\n",
       "        </tr>\n",
       "        <tr>\n",
       "            <td>-93.2725</td> <td>44.9796</td> <td>1535694           </td> <td>08-142883 </td> <td>2008-05-18T04:01:02.000Z</td> <td>Disturbance          </td> <td>No       </td> <td>DISCON        </td> <td>nan          </td> <td>1                </td> <td>A          </td> <td>1                </td> <td>Chemical Irritant</td> <td>Personal Mace  </td> <td>Black             </td> <td>Male</td> <td>25      </td> <td>Tensed               </td> <td>01      </td> <td>Downtown West</td> <td>322402               </td> <td>46998                    </td> <td>23458                        </td> <td>25832      </td> <td>44.9796       </td> <td>-93.2725       </td> <td>-1.0383e+07 </td> <td>5.61831e+06</td> <td>2019-07-05T08:18:58.000Z</td> <td>1002    </td>\n",
       "        </tr>\n",
       "        <tr>\n",
       "            <td>-93.2764</td> <td>44.9768</td> <td>1535695           </td> <td>08-144119 </td> <td>2008-05-19T05:08:38.000Z</td> <td>Suspicious Person    </td> <td>No       </td> <td>NARC          </td> <td>No           </td> <td>2                </td> <td>A          </td> <td>1                </td> <td>Bodily Force     </td> <td>Joint Lock     </td> <td>Black             </td> <td>Male</td> <td>22      </td> <td>Commission of Crime  </td> <td>01      </td> <td>Downtown West</td> <td>322402               </td> <td>46998                    </td> <td>23458                        </td> <td>21655      </td> <td>44.9768       </td> <td>-93.2764       </td> <td>-1.03835e+07</td> <td>5.61787e+06</td> <td>2019-07-05T08:18:58.000Z</td> <td>1003    </td>\n",
       "        </tr>\n",
       "        <tr>\n",
       "            <td>-93.288 </td> <td>45.011 </td> <td>1535696           </td> <td>08-148956 </td> <td>2008-05-23T03:13:30.000Z</td> <td>Sound of Shots Fired </td> <td>Yes      </td> <td>WEAP          </td> <td>No           </td> <td>2                </td> <td>A          </td> <td>1                </td> <td>Bodily Force     </td> <td>Punches        </td> <td>Black             </td> <td>Male</td> <td>18      </td> <td>Fled on Foot         </td> <td>04      </td> <td>Hawthorne    </td> <td>322402               </td> <td>80434                    </td> <td>13679                        </td> <td>18762      </td> <td>45.011        </td> <td>-93.288        </td> <td>-1.03848e+07</td> <td>5.62326e+06</td> <td>2019-07-05T08:18:58.000Z</td> <td>1004    </td>\n",
       "        </tr>\n",
       "        <tr>\n",
       "            <td>-93.2735</td> <td>44.9484</td> <td>1535697           </td> <td>08-159458 </td> <td>2008-05-31T22:52:58.000Z</td> <td>Person with a Gun    </td> <td>Yes      </td> <td>FALSNM        </td> <td>No           </td> <td>1                </td> <td>A          </td> <td>1                </td> <td>Bodily Force     </td> <td>Kicks          </td> <td>Black             </td> <td>Male</td> <td>30      </td> <td>Verbal Non-Compliance</td> <td>03      </td> <td>Phillips West</td> <td>322402               </td> <td>84018                    </td> <td>6359                         </td> <td>19103      </td> <td>44.9484       </td> <td>-93.2735       </td> <td>-1.03832e+07</td> <td>5.61339e+06</td> <td>2019-07-05T08:18:58.000Z</td> <td>1005    </td>\n",
       "        </tr>\n",
       "    </tbody>\n",
       "</table>\n",
       "<p>... (28055 rows omitted)</p>"
      ],
      "text/plain": [
       "<IPython.core.display.HTML object>"
      ]
     },
     "metadata": {},
     "output_type": "display_data"
    }
   ],
   "source": [
    "# Police Use of Force Records\n",
    "force = Table().read_table('Data/Police_Use_of_Force.csv')\n",
    "force.show(5)"
   ]
  },
  {
   "cell_type": "markdown",
   "metadata": {},
   "source": [
    "## Categorical Data <a id='1.1'></a>\n",
    "\n",
    "A **categorical variable** is a variable that can take on one of a limited number of possible values. Examples of categorical variables include race and neighborhoods. For instance,\n",
    "\n",
    "- The category \"race\" could contain the values \"African American\", \"Asian\", \"Hispanic\" or \"Caucasian\".\n",
    "- The category \"neighborhoods\" could contain the values \"Windom Park\", \"Hawthorne\" or \"Standish\".\n",
    "\n",
    "Categorical variables can be divided into two types: **nominal** and **ordinal**. There is no inherent order to nominal variables. Stated differently, they aren't ranked according to an order system. The type of variable that has a logical order, such as type of degree completed or age group, are referred to as ordinal variables instead. Age group is an important example since it's numerical, but the age values have been collapsed into groups (such as 10-19, 20-29, etc.), it is an ordinal variable.\n",
    "\n",
    "The `incidents` table has the following categorical variables: `offense`, `description`, and `neighborhood`\n",
    "\n",
    "\n",
    "### Question 1 <a id='q1'></a>\n",
    "Choose an appropriate visualization to look at the distribution of the types of incidents. Use the code cell below to create and design your plot. Then, describe your design choices in making the plot."
   ]
  },
  {
   "cell_type": "code",
   "execution_count": 4,
   "metadata": {},
   "outputs": [],
   "source": [
    "# your code here"
   ]
  },
  {
   "cell_type": "code",
   "execution_count": 5,
   "metadata": {},
   "outputs": [
    {
     "data": {
      "image/png": "[encoded data removed]",
      "text/plain": [
       "<Figure size 720x576 with 1 Axes>"
      ]
     },
     "metadata": {
      "needs_background": "light"
     },
     "output_type": "display_data"
    }
   ],
   "source": [
    "# example solution\n",
    "offense_counts = incidents.group('description').sort(1, True).take[0:15].sort(1, False)\n",
    "plt.figure(figsize=(10,8))\n",
    "plt.barh(offense_counts['description'], offense_counts['count'])\n",
    "plt.title('Top 15 Incident Types')\n",
    "plt.xlabel('Count')\n",
    "plt.ylabel('Description');"
   ]
  },
  {
   "cell_type": "markdown",
   "metadata": {},
   "source": [
    "**Describe the features you choose here.** Some questions to address: Did you keep nan values? What do those values represent in the data? Did you order the data in any particular way? Why? What other design choices did you make? What message are you trying to communicate, and what decisions did you make in order to do so? Please answer in 5-6 sentences."
   ]
  },
  {
   "cell_type": "markdown",
   "metadata": {},
   "source": [
    "*Replace this line with your answer*"
   ]
  },
  {
   "cell_type": "markdown",
   "metadata": {},
   "source": [
    "## Numerical Data <a id='1.2'></a>\n",
    "\n",
    "A **numerical variable** is also called a continuous variable; it is a variable that can take on any value within a finite or infinite range. For example:\n",
    "\n",
    "- The numerical variable \"age\" may take on the value 0, 1, 2 .... on to the age of the oldest person in the dataset.\n",
    "- The numerical variable \"count\" may take on the value 0, 1, 2, .... up to however many things we're counting.\n",
    "\n",
    "The `force` table has the following numerical variables: `EventAge`, `TotalCityCallsForYear`, `TotalPrecinctCallsForYear`, `TotalNeighborhoodCallsForYear`, as well as `X/Y` for the latitude-longitude information.\n",
    "\n",
    "\n",
    "### Question 2 <a id='q2'></a>\n",
    "At what age are people experiencing the most incidences of force? In the cell below, choose an appropriate visualization to look at the distribution of ages for individuals who experienced an incident with force. Refer to the dataset to choose the correct column names & their possible values. In addition, use subplots to create a side-by-side comparison with the distribution of ages for male vs female individuals."
   ]
  },
  {
   "cell_type": "code",
   "execution_count": 7,
   "metadata": {},
   "outputs": [
    {
     "data": {
      "text/html": [
       "<table border=\"1\" class=\"dataframe\">\n",
       "    <thead>\n",
       "        <tr>\n",
       "            <th>X</th> <th>Y</th> <th>PoliceUseOfForceID</th> <th>CaseNumber</th> <th>ResponseDate</th> <th>Problem</th> <th>Is911Call</th> <th>PrimaryOffense</th> <th>SubjectInjury</th> <th>ForceReportNumber</th> <th>SubjectRole</th> <th>SubjectRoleNumber</th> <th>ForceType</th> <th>ForceTypeAction</th> <th>Race</th> <th>Sex</th> <th>EventAge</th> <th>TypeOfResistance</th> <th>Precinct</th> <th>Neighborhood</th> <th>TotalCityCallsForYear</th> <th>TotalPrecinctCallsForYear</th> <th>TotalNeighborhoodCallsForYear</th> <th>CenterGBSID</th> <th>CenterLatitude</th> <th>CenterLongitude</th> <th>CenterX</th> <th>CenterY</th> <th>DateAdded</th> <th>OBJECTID</th>\n",
       "        </tr>\n",
       "    </thead>\n",
       "    <tbody>\n",
       "        <tr>\n",
       "            <td>-93.2406</td> <td>44.9457</td> <td>1535693           </td> <td>08-134948 </td> <td>2008-05-11T12:27:59.000Z</td> <td>Fight                </td> <td>Yes      </td> <td>DISCON        </td> <td>Yes          </td> <td>1                </td> <td>A          </td> <td>2                </td> <td>Bodily Force     </td> <td>Kicks          </td> <td>Other / Mixed Race</td> <td>Male</td> <td>23      </td> <td>Verbal Non-Compliance</td> <td>03      </td> <td>Corcoran     </td> <td>322402               </td> <td>84018                    </td> <td>3058                         </td> <td>19708      </td> <td>44.9457       </td> <td>-93.2406       </td> <td>-1.03795e+07</td> <td>5.61297e+06</td> <td>2019-07-05T08:18:58.000Z</td> <td>1001    </td>\n",
       "        </tr>\n",
       "        <tr>\n",
       "            <td>-93.2725</td> <td>44.9796</td> <td>1535694           </td> <td>08-142883 </td> <td>2008-05-18T04:01:02.000Z</td> <td>Disturbance          </td> <td>No       </td> <td>DISCON        </td> <td>nan          </td> <td>1                </td> <td>A          </td> <td>1                </td> <td>Chemical Irritant</td> <td>Personal Mace  </td> <td>Black             </td> <td>Male</td> <td>25      </td> <td>Tensed               </td> <td>01      </td> <td>Downtown West</td> <td>322402               </td> <td>46998                    </td> <td>23458                        </td> <td>25832      </td> <td>44.9796       </td> <td>-93.2725       </td> <td>-1.0383e+07 </td> <td>5.61831e+06</td> <td>2019-07-05T08:18:58.000Z</td> <td>1002    </td>\n",
       "        </tr>\n",
       "        <tr>\n",
       "            <td>-93.2764</td> <td>44.9768</td> <td>1535695           </td> <td>08-144119 </td> <td>2008-05-19T05:08:38.000Z</td> <td>Suspicious Person    </td> <td>No       </td> <td>NARC          </td> <td>No           </td> <td>2                </td> <td>A          </td> <td>1                </td> <td>Bodily Force     </td> <td>Joint Lock     </td> <td>Black             </td> <td>Male</td> <td>22      </td> <td>Commission of Crime  </td> <td>01      </td> <td>Downtown West</td> <td>322402               </td> <td>46998                    </td> <td>23458                        </td> <td>21655      </td> <td>44.9768       </td> <td>-93.2764       </td> <td>-1.03835e+07</td> <td>5.61787e+06</td> <td>2019-07-05T08:18:58.000Z</td> <td>1003    </td>\n",
       "        </tr>\n",
       "        <tr>\n",
       "            <td>-93.288 </td> <td>45.011 </td> <td>1535696           </td> <td>08-148956 </td> <td>2008-05-23T03:13:30.000Z</td> <td>Sound of Shots Fired </td> <td>Yes      </td> <td>WEAP          </td> <td>No           </td> <td>2                </td> <td>A          </td> <td>1                </td> <td>Bodily Force     </td> <td>Punches        </td> <td>Black             </td> <td>Male</td> <td>18      </td> <td>Fled on Foot         </td> <td>04      </td> <td>Hawthorne    </td> <td>322402               </td> <td>80434                    </td> <td>13679                        </td> <td>18762      </td> <td>45.011        </td> <td>-93.288        </td> <td>-1.03848e+07</td> <td>5.62326e+06</td> <td>2019-07-05T08:18:58.000Z</td> <td>1004    </td>\n",
       "        </tr>\n",
       "        <tr>\n",
       "            <td>-93.2735</td> <td>44.9484</td> <td>1535697           </td> <td>08-159458 </td> <td>2008-05-31T22:52:58.000Z</td> <td>Person with a Gun    </td> <td>Yes      </td> <td>FALSNM        </td> <td>No           </td> <td>1                </td> <td>A          </td> <td>1                </td> <td>Bodily Force     </td> <td>Kicks          </td> <td>Black             </td> <td>Male</td> <td>30      </td> <td>Verbal Non-Compliance</td> <td>03      </td> <td>Phillips West</td> <td>322402               </td> <td>84018                    </td> <td>6359                         </td> <td>19103      </td> <td>44.9484       </td> <td>-93.2735       </td> <td>-1.03832e+07</td> <td>5.61339e+06</td> <td>2019-07-05T08:18:58.000Z</td> <td>1005    </td>\n",
       "        </tr>\n",
       "    </tbody>\n",
       "</table>\n",
       "<p>... (28055 rows omitted)</p>"
      ],
      "text/plain": [
       "<IPython.core.display.HTML object>"
      ]
     },
     "metadata": {},
     "output_type": "display_data"
    }
   ],
   "source": [
    "force.show(5)"
   ]
  },
  {
   "cell_type": "code",
   "execution_count": 12,
   "metadata": {},
   "outputs": [
    {
     "data": {
      "text/html": [
       "<table border=\"1\" class=\"dataframe\">\n",
       "    <thead>\n",
       "        <tr>\n",
       "            <th>EventAge</th> <th>count</th>\n",
       "        </tr>\n",
       "    </thead>\n",
       "    <tbody>\n",
       "        <tr>\n",
       "            <td>0       </td> <td>486  </td>\n",
       "        </tr>\n",
       "        <tr>\n",
       "            <td>6       </td> <td>2    </td>\n",
       "        </tr>\n",
       "        <tr>\n",
       "            <td>7       </td> <td>2    </td>\n",
       "        </tr>\n",
       "        <tr>\n",
       "            <td>9       </td> <td>6    </td>\n",
       "        </tr>\n",
       "        <tr>\n",
       "            <td>10      </td> <td>3    </td>\n",
       "        </tr>\n",
       "        <tr>\n",
       "            <td>11      </td> <td>5    </td>\n",
       "        </tr>\n",
       "        <tr>\n",
       "            <td>12      </td> <td>18   </td>\n",
       "        </tr>\n",
       "        <tr>\n",
       "            <td>13      </td> <td>110  </td>\n",
       "        </tr>\n",
       "        <tr>\n",
       "            <td>14      </td> <td>241  </td>\n",
       "        </tr>\n",
       "        <tr>\n",
       "            <td>15      </td> <td>397  </td>\n",
       "        </tr>\n",
       "    </tbody>\n",
       "</table>\n",
       "<p>... (60 rows omitted)</p>"
      ],
      "text/plain": [
       "EventAge | count\n",
       "0        | 486\n",
       "6        | 2\n",
       "7        | 2\n",
       "9        | 6\n",
       "10       | 3\n",
       "11       | 5\n",
       "12       | 18\n",
       "13       | 110\n",
       "14       | 241\n",
       "15       | 397\n",
       "... (60 rows omitted)"
      ]
     },
     "execution_count": 12,
     "metadata": {},
     "output_type": "execute_result"
    }
   ],
   "source": [
    "force.group(\"EventAge\")"
   ]
  },
  {
   "cell_type": "code",
   "execution_count": 11,
   "metadata": {},
   "outputs": [
    {
     "data": {
      "text/html": [
       "<table border=\"1\" class=\"dataframe\">\n",
       "    <thead>\n",
       "        <tr>\n",
       "            <th>EventAge</th> <th>count</th>\n",
       "        </tr>\n",
       "    </thead>\n",
       "    <tbody>\n",
       "        <tr>\n",
       "            <td>6       </td> <td>2    </td>\n",
       "        </tr>\n",
       "        <tr>\n",
       "            <td>7       </td> <td>2    </td>\n",
       "        </tr>\n",
       "        <tr>\n",
       "            <td>9       </td> <td>6    </td>\n",
       "        </tr>\n",
       "        <tr>\n",
       "            <td>10      </td> <td>3    </td>\n",
       "        </tr>\n",
       "        <tr>\n",
       "            <td>11      </td> <td>5    </td>\n",
       "        </tr>\n",
       "        <tr>\n",
       "            <td>12      </td> <td>18   </td>\n",
       "        </tr>\n",
       "        <tr>\n",
       "            <td>13      </td> <td>110  </td>\n",
       "        </tr>\n",
       "        <tr>\n",
       "            <td>14      </td> <td>241  </td>\n",
       "        </tr>\n",
       "        <tr>\n",
       "            <td>15      </td> <td>397  </td>\n",
       "        </tr>\n",
       "        <tr>\n",
       "            <td>16      </td> <td>549  </td>\n",
       "        </tr>\n",
       "    </tbody>\n",
       "</table>\n",
       "<p>... (59 rows omitted)</p>"
      ],
      "text/plain": [
       "EventAge | count\n",
       "6        | 2\n",
       "7        | 2\n",
       "9        | 6\n",
       "10       | 3\n",
       "11       | 5\n",
       "12       | 18\n",
       "13       | 110\n",
       "14       | 241\n",
       "15       | 397\n",
       "16       | 549\n",
       "... (59 rows omitted)"
      ]
     },
     "execution_count": 11,
     "metadata": {},
     "output_type": "execute_result"
    }
   ],
   "source": [
    "force.where(\"EventAge\", are.not_equal_to(0)).group(\"EventAge\")"
   ]
  },
  {
   "cell_type": "code",
   "execution_count": 6,
   "metadata": {},
   "outputs": [],
   "source": [
    "# your code here"
   ]
  },
  {
   "cell_type": "code",
   "execution_count": 7,
   "metadata": {
    "scrolled": true
   },
   "outputs": [
    {
     "data": {
      "image/png": "[encoded data removed]",
      "text/plain": [
       "<Figure size 1080x576 with 2 Axes>"
      ]
     },
     "metadata": {
      "needs_background": "light"
     },
     "output_type": "display_data"
    }
   ],
   "source": [
    "# example solution\n",
    "force_not_nan_M = force.where(\"EventAge\", are.above(0)).where(\"Sex\", are.equal_to('Male')).sort('EventAge', True)\n",
    "force_not_nan_F = force.where(\"EventAge\", are.above(0)).where(\"Sex\", are.equal_to('Female')).sort('EventAge', True)\n",
    "\n",
    "fig = plt.figure(figsize=(15,8))\n",
    "ax = fig.add_subplot(221)\n",
    "plt.hist(force_not_nan_M.column('EventAge'), bins=np.arange(0,90))\n",
    "plt.ylim(0,1500)\n",
    "ax.set(title='Distribution of Age for Incidents with Males', xlabel = 'Age', ylabel='count')\n",
    "\n",
    "ax1 = fig.add_subplot(222)\n",
    "plt.hist(force_not_nan_F.column('EventAge'), bins=np.arange(0,90))\n",
    "plt.ylim(0,1500)\n",
    "ax1.set(title='Distribution of Age for Incidents with Females', xlabel = 'Age', ylabel='count');"
   ]
  },
  {
   "cell_type": "markdown",
   "metadata": {},
   "source": [
    "**Describe the features you choose here.** Some questions to address: Did you keep `Nan` values? What do those values represent in the data? Did you organize the data in any particular way? What other design choices did you make and why? Did you change the scaling of axes for the side-by-side plots? What message are you trying to communicate, and what decisions did you make in order to do so? Please answer in 5-6 sentences."
   ]
  },
  {
   "cell_type": "markdown",
   "metadata": {},
   "source": [
    "*Replace this line with your answer*"
   ]
  },
  {
   "cell_type": "markdown",
   "metadata": {},
   "source": [
    "## A Brief Lesson on More Advanced Plots: Time of Incidence<a id='2'></a>\n",
    "\n",
    "Please note that this is just an extra lesson, and all code is provided. We have included it so that you can learn about different ways to visually represent the data in the `incidents` table!\n",
    "\n",
    "The `incidents` table includes information on time and date of when an individual incident occurred. A **heatmap** is a graphical representation of data where the individual values contained in a matrix are represented as colors, and it is a good way to visualize concentration of incident occurence defined within two variables (in this case, `time` and `weekday`). Below, we will create a heatmap to illustrate when incidents were most likely to occur.\n",
    "\n",
    "First, we define the `weekday` column of the `incidents` table to be a [datetime](https://docs.python.org/2/library/datetime.html) conversion (a Python package dedicated to handling and adjusting how time is portrayed) of the `beginDate` column, which has read in datetime values as strings. Don't worry too much if the code looks too complicated, as it's simply a matter of reading in the `datetime` objects. The code can be copied and pasted exactly as it is in most cases.\n",
    "\n",
    "Once converted to `datetime` objects, we can use the `weekday()` method from `datetime` to find out the weekday of a given date. For instace, the date 2019-03-13 happened to be a Wednesday, thus `weekday()` on this datetime object would return the value 2 (which corresponds to a Wednesday). For readability, we've converted the numbers to the actual names of the days. \n",
    "\n",
    "We also create a column for the hour of day during which the incident occurred by ignoring the minute value of the begin time."
   ]
  },
  {
   "cell_type": "code",
   "execution_count": 8,
   "metadata": {},
   "outputs": [
    {
     "data": {
      "text/html": [
       "<table border=\"1\" class=\"dataframe\">\n",
       "    <thead>\n",
       "        <tr>\n",
       "            <th>X</th> <th>Y</th> <th>publicaddress</th> <th>caseNumber</th> <th>precinct</th> <th>reportedDate</th> <th>reportedTime</th> <th>beginDate</th> <th>reportedDateTime</th> <th>beginTime</th> <th>offense</th> <th>description</th> <th>UCRCode</th> <th>enteredDate</th> <th>centergbsid</th> <th>centerLong</th> <th>centerLat</th> <th>centerX</th> <th>centerY</th> <th>neighborhood</th> <th>lastchanged</th> <th>LastUpdateDateETL</th> <th>OBJECTID</th> <th>weekday</th> <th>hour</th>\n",
       "        </tr>\n",
       "    </thead>\n",
       "    <tbody>\n",
       "        <tr>\n",
       "            <td>-93.3118</td> <td>45.006 </td> <td>0024XX BROADWAY AVE W  </td> <td>MP201971497         </td> <td>4       </td> <td>2019-03-13T00:00:00.000Z</td> <td>1046        </td> <td>2019-03-13T00:00:00.000Z</td> <td>2019-03-13T10:46:00.000Z</td> <td>1046     </td> <td>THEFT   </td> <td>OTHER THEFT                   </td> <td>7      </td> <td>2019-03-13T00:00:00.000Z</td> <td>10909      </td> <td>-93.3118  </td> <td>45.006   </td> <td>-10387423</td> <td>5622470</td> <td>Willard - Hay</td> <td>2019-03-13T00:00:00.000Z</td> <td>2019-03-15T08:15:26.000Z</td> <td>9001    </td> <td>Wednesday</td> <td>10  </td>\n",
       "        </tr>\n",
       "        <tr>\n",
       "            <td>-93.3121</td> <td>44.9979</td> <td>0018XX SHERIDAN AVE N  </td> <td>MP201971522         </td> <td>4       </td> <td>2019-03-13T00:00:00.000Z</td> <td>1048        </td> <td>2019-03-12T00:00:00.000Z</td> <td>2019-03-13T10:48:00.000Z</td> <td>2000     </td> <td>THEFT   </td> <td>OTHER THEFT                   </td> <td>7      </td> <td>2019-03-13T00:00:00.000Z</td> <td>14596      </td> <td>-93.3121  </td> <td>44.9979  </td> <td>-10387450</td> <td>5621188</td> <td>Willard - Hay</td> <td>2019-03-13T00:00:00.000Z</td> <td>2019-03-15T08:15:26.000Z</td> <td>9002    </td> <td>Tuesday  </td> <td>20  </td>\n",
       "        </tr>\n",
       "        <tr>\n",
       "            <td>-93.2346</td> <td>45.0087</td> <td>0019XX HAYES ST NE     </td> <td>MP201971533         </td> <td>2       </td> <td>2019-03-13T00:00:00.000Z</td> <td>1141        </td> <td>2019-03-13T00:00:00.000Z</td> <td>2019-03-13T11:41:00.000Z</td> <td>215      </td> <td>CSCR    </td> <td>CSC - RAPE                    </td> <td>3      </td> <td>2019-03-13T00:00:00.000Z</td> <td>17221      </td> <td>-93.2346  </td> <td>45.0087  </td> <td>-10378828</td> <td>5622888</td> <td>Windom Park  </td> <td>2019-03-20T00:00:00.000Z</td> <td>2019-03-21T08:15:32.000Z</td> <td>9003    </td> <td>Wednesday</td> <td>2   </td>\n",
       "        </tr>\n",
       "        <tr>\n",
       "            <td>-93.2818</td> <td>45.0048</td> <td>0024XX WASHINGTON AVE N</td> <td>MP201971617         </td> <td>4       </td> <td>2019-03-13T00:00:00.000Z</td> <td>1317        </td> <td>2019-03-12T00:00:00.000Z</td> <td>2019-03-13T13:17:00.000Z</td> <td>1749     </td> <td>THEFT   </td> <td>OTHER THEFT                   </td> <td>7      </td> <td>2019-03-13T00:00:00.000Z</td> <td>13725      </td> <td>-93.2818  </td> <td>45.0048  </td> <td>-10384081</td> <td>5622275</td> <td>Hawthorne    </td> <td>2019-03-13T00:00:00.000Z</td> <td>2019-03-15T08:15:26.000Z</td> <td>9004    </td> <td>Tuesday  </td> <td>17  </td>\n",
       "        </tr>\n",
       "        <tr>\n",
       "            <td>-93.2283</td> <td>44.9296</td> <td>0040XX NOKOMIS AVE S   </td> <td>MP201971661         </td> <td>3       </td> <td>2019-03-13T00:00:00.000Z</td> <td>1326        </td> <td>2019-02-27T00:00:00.000Z</td> <td>2019-03-13T13:26:00.000Z</td> <td>900      </td> <td>ONLTHT  </td> <td>ON-LINE THEFT                 </td> <td>7      </td> <td>2019-03-13T00:00:00.000Z</td> <td>19761      </td> <td>-93.2283  </td> <td>44.9296  </td> <td>-10378128</td> <td>5610445</td> <td>Standish     </td> <td>2019-03-13T00:00:00.000Z</td> <td>2019-03-15T08:15:26.000Z</td> <td>9005    </td> <td>Wednesday</td> <td>9   </td>\n",
       "        </tr>\n",
       "    </tbody>\n",
       "</table>\n",
       "<p>... (9645 rows omitted)</p>"
      ],
      "text/plain": [
       "<IPython.core.display.HTML object>"
      ]
     },
     "metadata": {},
     "output_type": "display_data"
    }
   ],
   "source": [
    "# datetime conversion function of the beginDate to a weekday\n",
    "def convert_to_weekday(x):\n",
    "    return datetime.datetime.strptime(x, '%Y-%m-%dT%H:%M:%S.000Z').weekday()\n",
    " \n",
    "# getting weekdays from running beginDate through our function\n",
    "# and collecting all our hours from beginTime\n",
    "weekdays = [convert_to_weekday(incidents['beginDate'][i]) for i in range(len(incidents.column('beginDate')))]\n",
    "days = {0:'Monday', 1:'Tuesday', 2:'Wednesday', \\\n",
    "                        3:'Thursday', 4:'Friday', 5:'Saturday', 6:'Sunday'}\n",
    "weekdays = [days[i] for i in weekdays]\n",
    "hour = incidents['beginTime']//100\n",
    "\n",
    "# adding columns to our incidents table\n",
    "# (these columns should appear towards the end of the table)\n",
    "incidents = incidents.with_columns('weekday', weekdays, 'hour', hour)\n",
    "incidents.show(5)"
   ]
  },
  {
   "cell_type": "markdown",
   "metadata": {},
   "source": [
    "In order to create a heatmap, it is necessary to create a matrix where the columns represent the hours and the rows represent the weekdays.\n",
    "\n",
    "The values in the individual coordinates of the matrix would be the total count of incidents that correspond to the specific hour and weekday (for example, 87 incidents occurred on the row Wednesday at column 15 hours (3pm) in 2019). We can derive these count values using the `group` method to the `incidents` table and passing in a list of `weekday` and `hour` values as a parameter to the method:\n",
    "\n",
    "    incidents.group(['weekday', 'hour'])\n",
    "\n",
    "In order to get the weekdays as rows and the hours as columns, we pivot the table. The `'count'` and `sum` arguments preserve the groupby values as we pivot the table:\n",
    "\n",
    "    pivot('hour', 'weekday', 'count', sum)\n",
    "    "
   ]
  },
  {
   "cell_type": "code",
   "execution_count": 9,
   "metadata": {},
   "outputs": [
    {
     "data": {
      "text/html": [
       "<table border=\"1\" class=\"dataframe\">\n",
       "    <thead>\n",
       "        <tr>\n",
       "            <th>weekday</th> <th>0</th> <th>1</th> <th>2</th> <th>3</th> <th>4</th> <th>5</th> <th>6</th> <th>7</th> <th>8</th> <th>9</th> <th>10</th> <th>11</th> <th>12</th> <th>13</th> <th>14</th> <th>15</th> <th>16</th> <th>17</th> <th>18</th> <th>19</th> <th>20</th> <th>21</th> <th>22</th> <th>23</th>\n",
       "        </tr>\n",
       "    </thead>\n",
       "    <tbody>\n",
       "        <tr>\n",
       "            <td>Friday   </td> <td>92  </td> <td>54  </td> <td>45  </td> <td>25  </td> <td>17  </td> <td>26  </td> <td>20  </td> <td>39  </td> <td>46  </td> <td>43  </td> <td>40  </td> <td>46  </td> <td>79  </td> <td>56  </td> <td>72  </td> <td>78  </td> <td>86  </td> <td>95  </td> <td>103 </td> <td>86  </td> <td>79  </td> <td>75  </td> <td>72  </td> <td>106 </td>\n",
       "        </tr>\n",
       "        <tr>\n",
       "            <td>Monday   </td> <td>81  </td> <td>40  </td> <td>37  </td> <td>22  </td> <td>18  </td> <td>22  </td> <td>22  </td> <td>39  </td> <td>58  </td> <td>49  </td> <td>36  </td> <td>46  </td> <td>73  </td> <td>56  </td> <td>56  </td> <td>64  </td> <td>66  </td> <td>80  </td> <td>84  </td> <td>79  </td> <td>108 </td> <td>78  </td> <td>76  </td> <td>52  </td>\n",
       "        </tr>\n",
       "        <tr>\n",
       "            <td>Saturday </td> <td>121 </td> <td>103 </td> <td>67  </td> <td>40  </td> <td>31  </td> <td>14  </td> <td>19  </td> <td>31  </td> <td>38  </td> <td>47  </td> <td>31  </td> <td>48  </td> <td>79  </td> <td>48  </td> <td>80  </td> <td>59  </td> <td>76  </td> <td>72  </td> <td>78  </td> <td>68  </td> <td>78  </td> <td>67  </td> <td>100 </td> <td>89  </td>\n",
       "        </tr>\n",
       "        <tr>\n",
       "            <td>Sunday   </td> <td>120 </td> <td>86  </td> <td>73  </td> <td>52  </td> <td>27  </td> <td>23  </td> <td>25  </td> <td>15  </td> <td>29  </td> <td>42  </td> <td>41  </td> <td>31  </td> <td>68  </td> <td>50  </td> <td>55  </td> <td>63  </td> <td>62  </td> <td>75  </td> <td>82  </td> <td>65  </td> <td>68  </td> <td>90  </td> <td>79  </td> <td>59  </td>\n",
       "        </tr>\n",
       "        <tr>\n",
       "            <td>Thursday </td> <td>84  </td> <td>35  </td> <td>26  </td> <td>26  </td> <td>34  </td> <td>23  </td> <td>29  </td> <td>49  </td> <td>56  </td> <td>38  </td> <td>33  </td> <td>51  </td> <td>75  </td> <td>51  </td> <td>57  </td> <td>56  </td> <td>69  </td> <td>72  </td> <td>82  </td> <td>73  </td> <td>82  </td> <td>77  </td> <td>72  </td> <td>83  </td>\n",
       "        </tr>\n",
       "        <tr>\n",
       "            <td>Tuesday  </td> <td>86  </td> <td>35  </td> <td>24  </td> <td>20  </td> <td>21  </td> <td>24  </td> <td>29  </td> <td>49  </td> <td>57  </td> <td>40  </td> <td>60  </td> <td>41  </td> <td>67  </td> <td>59  </td> <td>62  </td> <td>59  </td> <td>73  </td> <td>84  </td> <td>74  </td> <td>95  </td> <td>77  </td> <td>79  </td> <td>82  </td> <td>45  </td>\n",
       "        </tr>\n",
       "        <tr>\n",
       "            <td>Wednesday</td> <td>77  </td> <td>38  </td> <td>32  </td> <td>32  </td> <td>11  </td> <td>17  </td> <td>37  </td> <td>41  </td> <td>50  </td> <td>41  </td> <td>50  </td> <td>46  </td> <td>74  </td> <td>60  </td> <td>52  </td> <td>55  </td> <td>54  </td> <td>83  </td> <td>92  </td> <td>78  </td> <td>72  </td> <td>67  </td> <td>88  </td> <td>42  </td>\n",
       "        </tr>\n",
       "    </tbody>\n",
       "</table>"
      ],
      "text/plain": [
       "weekday   | 0    | 1    | 2    | 3    | 4    | 5    | 6    | 7    | 8    | 9    | 10   | 11   | 12   | 13   | 14   | 15   | 16   | 17   | 18   | 19   | 20   | 21   | 22   | 23\n",
       "Friday    | 92   | 54   | 45   | 25   | 17   | 26   | 20   | 39   | 46   | 43   | 40   | 46   | 79   | 56   | 72   | 78   | 86   | 95   | 103  | 86   | 79   | 75   | 72   | 106\n",
       "Monday    | 81   | 40   | 37   | 22   | 18   | 22   | 22   | 39   | 58   | 49   | 36   | 46   | 73   | 56   | 56   | 64   | 66   | 80   | 84   | 79   | 108  | 78   | 76   | 52\n",
       "Saturday  | 121  | 103  | 67   | 40   | 31   | 14   | 19   | 31   | 38   | 47   | 31   | 48   | 79   | 48   | 80   | 59   | 76   | 72   | 78   | 68   | 78   | 67   | 100  | 89\n",
       "Sunday    | 120  | 86   | 73   | 52   | 27   | 23   | 25   | 15   | 29   | 42   | 41   | 31   | 68   | 50   | 55   | 63   | 62   | 75   | 82   | 65   | 68   | 90   | 79   | 59\n",
       "Thursday  | 84   | 35   | 26   | 26   | 34   | 23   | 29   | 49   | 56   | 38   | 33   | 51   | 75   | 51   | 57   | 56   | 69   | 72   | 82   | 73   | 82   | 77   | 72   | 83\n",
       "Tuesday   | 86   | 35   | 24   | 20   | 21   | 24   | 29   | 49   | 57   | 40   | 60   | 41   | 67   | 59   | 62   | 59   | 73   | 84   | 74   | 95   | 77   | 79   | 82   | 45\n",
       "Wednesday | 77   | 38   | 32   | 32   | 11   | 17   | 37   | 41   | 50   | 41   | 50   | 46   | 74   | 60   | 52   | 55   | 54   | 83   | 92   | 78   | 72   | 67   | 88   | 42"
      ]
     },
     "execution_count": 9,
     "metadata": {},
     "output_type": "execute_result"
    }
   ],
   "source": [
    "#Constructing 2d array for visualization with heatmap.\n",
    "hour_weekday_matrix = incidents.group(['weekday', 'hour'])\n",
    "hour_weekday_matrix = hour_weekday_matrix.pivot('hour', 'weekday', 'count', sum)\n",
    "hour_weekday_matrix"
   ]
  },
  {
   "cell_type": "markdown",
   "metadata": {},
   "source": [
    "We hope the above matrix make things a little bit clearer. However, there is one issue with the visualization, namely that the weekday values are not ordered logically. We can address this issue by manually changing this order. At this point, we'll switch over to using the python package [pandas](https://pandas.pydata.org/docs/) (a Python package that's explored more in depth in Data 100). It'll help us with sorting the values in our matrix in a particular order, and it works well with the visualization library [seaborn](https://seaborn.pydata.org/), which we'll use to create the heatmap. You aren't expected to know how to use `pandas` or `seaborn`, but we're introducing them here to show what other types of visualizations you could make with the incident data."
   ]
  },
  {
   "cell_type": "code",
   "execution_count": 10,
   "metadata": {},
   "outputs": [
    {
     "data": {
      "text/html": [
       "<div>\n",
       "<style scoped>\n",
       "    .dataframe tbody tr th:only-of-type {\n",
       "        vertical-align: middle;\n",
       "    }\n",
       "\n",
       "    .dataframe tbody tr th {\n",
       "        vertical-align: top;\n",
       "    }\n",
       "\n",
       "    .dataframe thead th {\n",
       "        text-align: right;\n",
       "    }\n",
       "</style>\n",
       "<table border=\"1\" class=\"dataframe\">\n",
       "  <thead>\n",
       "    <tr style=\"text-align: right;\">\n",
       "      <th></th>\n",
       "      <th>0</th>\n",
       "      <th>1</th>\n",
       "      <th>2</th>\n",
       "      <th>3</th>\n",
       "      <th>4</th>\n",
       "      <th>5</th>\n",
       "      <th>6</th>\n",
       "      <th>7</th>\n",
       "      <th>8</th>\n",
       "      <th>9</th>\n",
       "      <th>...</th>\n",
       "      <th>14</th>\n",
       "      <th>15</th>\n",
       "      <th>16</th>\n",
       "      <th>17</th>\n",
       "      <th>18</th>\n",
       "      <th>19</th>\n",
       "      <th>20</th>\n",
       "      <th>21</th>\n",
       "      <th>22</th>\n",
       "      <th>23</th>\n",
       "    </tr>\n",
       "    <tr>\n",
       "      <th>weekday</th>\n",
       "      <th></th>\n",
       "      <th></th>\n",
       "      <th></th>\n",
       "      <th></th>\n",
       "      <th></th>\n",
       "      <th></th>\n",
       "      <th></th>\n",
       "      <th></th>\n",
       "      <th></th>\n",
       "      <th></th>\n",
       "      <th></th>\n",
       "      <th></th>\n",
       "      <th></th>\n",
       "      <th></th>\n",
       "      <th></th>\n",
       "      <th></th>\n",
       "      <th></th>\n",
       "      <th></th>\n",
       "      <th></th>\n",
       "      <th></th>\n",
       "      <th></th>\n",
       "    </tr>\n",
       "  </thead>\n",
       "  <tbody>\n",
       "    <tr>\n",
       "      <th>Monday</th>\n",
       "      <td>81</td>\n",
       "      <td>40</td>\n",
       "      <td>37</td>\n",
       "      <td>22</td>\n",
       "      <td>18</td>\n",
       "      <td>22</td>\n",
       "      <td>22</td>\n",
       "      <td>39</td>\n",
       "      <td>58</td>\n",
       "      <td>49</td>\n",
       "      <td>...</td>\n",
       "      <td>56</td>\n",
       "      <td>64</td>\n",
       "      <td>66</td>\n",
       "      <td>80</td>\n",
       "      <td>84</td>\n",
       "      <td>79</td>\n",
       "      <td>108</td>\n",
       "      <td>78</td>\n",
       "      <td>76</td>\n",
       "      <td>52</td>\n",
       "    </tr>\n",
       "    <tr>\n",
       "      <th>Tuesday</th>\n",
       "      <td>86</td>\n",
       "      <td>35</td>\n",
       "      <td>24</td>\n",
       "      <td>20</td>\n",
       "      <td>21</td>\n",
       "      <td>24</td>\n",
       "      <td>29</td>\n",
       "      <td>49</td>\n",
       "      <td>57</td>\n",
       "      <td>40</td>\n",
       "      <td>...</td>\n",
       "      <td>62</td>\n",
       "      <td>59</td>\n",
       "      <td>73</td>\n",
       "      <td>84</td>\n",
       "      <td>74</td>\n",
       "      <td>95</td>\n",
       "      <td>77</td>\n",
       "      <td>79</td>\n",
       "      <td>82</td>\n",
       "      <td>45</td>\n",
       "    </tr>\n",
       "    <tr>\n",
       "      <th>Wednesday</th>\n",
       "      <td>77</td>\n",
       "      <td>38</td>\n",
       "      <td>32</td>\n",
       "      <td>32</td>\n",
       "      <td>11</td>\n",
       "      <td>17</td>\n",
       "      <td>37</td>\n",
       "      <td>41</td>\n",
       "      <td>50</td>\n",
       "      <td>41</td>\n",
       "      <td>...</td>\n",
       "      <td>52</td>\n",
       "      <td>55</td>\n",
       "      <td>54</td>\n",
       "      <td>83</td>\n",
       "      <td>92</td>\n",
       "      <td>78</td>\n",
       "      <td>72</td>\n",
       "      <td>67</td>\n",
       "      <td>88</td>\n",
       "      <td>42</td>\n",
       "    </tr>\n",
       "    <tr>\n",
       "      <th>Thursday</th>\n",
       "      <td>84</td>\n",
       "      <td>35</td>\n",
       "      <td>26</td>\n",
       "      <td>26</td>\n",
       "      <td>34</td>\n",
       "      <td>23</td>\n",
       "      <td>29</td>\n",
       "      <td>49</td>\n",
       "      <td>56</td>\n",
       "      <td>38</td>\n",
       "      <td>...</td>\n",
       "      <td>57</td>\n",
       "      <td>56</td>\n",
       "      <td>69</td>\n",
       "      <td>72</td>\n",
       "      <td>82</td>\n",
       "      <td>73</td>\n",
       "      <td>82</td>\n",
       "      <td>77</td>\n",
       "      <td>72</td>\n",
       "      <td>83</td>\n",
       "    </tr>\n",
       "    <tr>\n",
       "      <th>Friday</th>\n",
       "      <td>92</td>\n",
       "      <td>54</td>\n",
       "      <td>45</td>\n",
       "      <td>25</td>\n",
       "      <td>17</td>\n",
       "      <td>26</td>\n",
       "      <td>20</td>\n",
       "      <td>39</td>\n",
       "      <td>46</td>\n",
       "      <td>43</td>\n",
       "      <td>...</td>\n",
       "      <td>72</td>\n",
       "      <td>78</td>\n",
       "      <td>86</td>\n",
       "      <td>95</td>\n",
       "      <td>103</td>\n",
       "      <td>86</td>\n",
       "      <td>79</td>\n",
       "      <td>75</td>\n",
       "      <td>72</td>\n",
       "      <td>106</td>\n",
       "    </tr>\n",
       "    <tr>\n",
       "      <th>Saturday</th>\n",
       "      <td>121</td>\n",
       "      <td>103</td>\n",
       "      <td>67</td>\n",
       "      <td>40</td>\n",
       "      <td>31</td>\n",
       "      <td>14</td>\n",
       "      <td>19</td>\n",
       "      <td>31</td>\n",
       "      <td>38</td>\n",
       "      <td>47</td>\n",
       "      <td>...</td>\n",
       "      <td>80</td>\n",
       "      <td>59</td>\n",
       "      <td>76</td>\n",
       "      <td>72</td>\n",
       "      <td>78</td>\n",
       "      <td>68</td>\n",
       "      <td>78</td>\n",
       "      <td>67</td>\n",
       "      <td>100</td>\n",
       "      <td>89</td>\n",
       "    </tr>\n",
       "    <tr>\n",
       "      <th>Sunday</th>\n",
       "      <td>120</td>\n",
       "      <td>86</td>\n",
       "      <td>73</td>\n",
       "      <td>52</td>\n",
       "      <td>27</td>\n",
       "      <td>23</td>\n",
       "      <td>25</td>\n",
       "      <td>15</td>\n",
       "      <td>29</td>\n",
       "      <td>42</td>\n",
       "      <td>...</td>\n",
       "      <td>55</td>\n",
       "      <td>63</td>\n",
       "      <td>62</td>\n",
       "      <td>75</td>\n",
       "      <td>82</td>\n",
       "      <td>65</td>\n",
       "      <td>68</td>\n",
       "      <td>90</td>\n",
       "      <td>79</td>\n",
       "      <td>59</td>\n",
       "    </tr>\n",
       "  </tbody>\n",
       "</table>\n",
       "<p>7 rows × 24 columns</p>\n",
       "</div>"
      ],
      "text/plain": [
       "             0    1   2   3   4   5   6   7   8   9  ...  14  15  16  17   18  \\\n",
       "weekday                                              ...                        \n",
       "Monday      81   40  37  22  18  22  22  39  58  49  ...  56  64  66  80   84   \n",
       "Tuesday     86   35  24  20  21  24  29  49  57  40  ...  62  59  73  84   74   \n",
       "Wednesday   77   38  32  32  11  17  37  41  50  41  ...  52  55  54  83   92   \n",
       "Thursday    84   35  26  26  34  23  29  49  56  38  ...  57  56  69  72   82   \n",
       "Friday      92   54  45  25  17  26  20  39  46  43  ...  72  78  86  95  103   \n",
       "Saturday   121  103  67  40  31  14  19  31  38  47  ...  80  59  76  72   78   \n",
       "Sunday     120   86  73  52  27  23  25  15  29  42  ...  55  63  62  75   82   \n",
       "\n",
       "           19   20  21   22   23  \n",
       "weekday                           \n",
       "Monday     79  108  78   76   52  \n",
       "Tuesday    95   77  79   82   45  \n",
       "Wednesday  78   72  67   88   42  \n",
       "Thursday   73   82  77   72   83  \n",
       "Friday     86   79  75   72  106  \n",
       "Saturday   68   78  67  100   89  \n",
       "Sunday     65   68  90   79   59  \n",
       "\n",
       "[7 rows x 24 columns]"
      ]
     },
     "execution_count": 10,
     "metadata": {},
     "output_type": "execute_result"
    }
   ],
   "source": [
    "# Ordering new 2d array by weekday.\n",
    "import pandas as pd\n",
    "\n",
    "weekday_order = ['Monday', 'Tuesday', 'Wednesday', 'Thursday', 'Friday', 'Saturday', 'Sunday']\n",
    "hour_weekday_matrix_df = hour_weekday_matrix.to_df()\n",
    "hour_weekday_matrix_df = hour_weekday_matrix_df.set_index('weekday').reindex(weekday_order)\n",
    "hour_weekday_matrix_df"
   ]
  },
  {
   "cell_type": "markdown",
   "metadata": {},
   "source": [
    "Now that both the rows and columns are ordered, we can plot our heatmap using the `heatmap` method from the `seaborn` package:\n",
    "\n",
    "    sns.heatmap(dataframe)\n",
    "    \n",
    "The basic idea is to represent the above matrix with colors with a specific color range representing numerical values of each coordinate. The `cmap` parameter of the method simply defines the color map of the visualization. The list of color maps can be found in [this link](https://seaborn.pydata.org/tutorial/color_palettes.html)."
   ]
  },
  {
   "cell_type": "code",
   "execution_count": 11,
   "metadata": {},
   "outputs": [
    {
     "data": {
      "image/png": "[encoded data removed]",
      "text/plain": [
       "<Figure size 1440x576 with 2 Axes>"
      ]
     },
     "metadata": {
      "needs_background": "light"
     },
     "output_type": "display_data"
    }
   ],
   "source": [
    "#Graphing the heatmap.\n",
    "import seaborn as sns\n",
    "\n",
    "fig, ax = plt.subplots(1, figsize=(20, 8))\n",
    "sns.heatmap(hour_weekday_matrix_df, cmap='BuPu')\n",
    "ax.set(xlabel='Hour')\n",
    "ax.set_title('Incident Time and Weekday, 2019',\\\n",
    "            fontdict={'fontsize': '15', 'fontweight' : '3'});"
   ]
  },
  {
   "cell_type": "markdown",
   "metadata": {},
   "source": [
    "What kind of insights can you gain from the visualization above? What can you tell about the time that incidents were most likely to occur? What can you tell about the weekday? Can you think of an explanation behind your findings? Spend some time thinking about these questions before reading on.\n",
    "\n",
    "The visualization makes it clear to the audience that incidents are concentrated in the evenings, and are more likely to occur on weekends than on weekdays. This would make sense because people are generally more active after work hours. However, be aware that the concentration of values at 0 hour could be a result of recording `nan` values as 0's. This needs further exploration of the data for clarification.\n",
    "\n",
    "Congratulations on making it this far! Don't be too alarmed if you find the above steps overwhelming. These concepts are quite complicated, and we just wanted you to get a sense of what's possible with Python.\n",
    "\n",
    "Feel free to experiment with the code blocks above to find out what each step is doing to manipulate the given data. Just make sure to reset the variable to what we've defined it to be originally.\n",
    "\n",
    "---\n",
    "\n",
    "Notebook developed by: Damien Kwon, Keilyn Yuzuki\n",
    "\n",
    "Data Science Modules: http://data.berkeley.edu/education/modules\n",
    "\n",
    "Data Science Offerings at Berkeley: https://data.berkeley.edu/academics/undergraduate-programs/data-science-offerings\n",
    "\n"
   ]
  },
  {
   "cell_type": "code",
   "execution_count": null,
   "metadata": {},
   "outputs": [],
   "source": []
  }
 ],
 "metadata": {
  "kernelspec": {
   "display_name": "Python 3",
   "language": "python",
   "name": "python3"
  },
  "language_info": {
   "codemirror_mode": {
    "name": "ipython",
    "version": 3
   },
   "file_extension": ".py",
   "mimetype": "text/x-python",
   "name": "python",
   "nbconvert_exporter": "python",
   "pygments_lexer": "ipython3",
   "version": "3.7.6"
  }
 },
 "nbformat": 4,
 "nbformat_minor": 2
}
